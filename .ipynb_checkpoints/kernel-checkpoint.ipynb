{
 "cells": [
  {
   "cell_type": "code",
   "execution_count": 1,
   "metadata": {},
   "outputs": [],
   "source": [
    "import json"
   ]
  },
  {
   "cell_type": "code",
   "execution_count": null,
   "metadata": {},
   "outputs": [],
   "source": []
  },
  {
   "cell_type": "code",
   "execution_count": 17,
   "metadata": {},
   "outputs": [
    {
     "name": "stdout",
     "output_type": "stream",
     "text": [
      "{'10.0.0.1': {'12': <__main__.link object at 0x7f2a60359c18>}} {'10.0.0.3': {'34': <__main__.link object at 0x7f2a602ee208>}}\n",
      "10.0.0.3\n",
      "{'34': <__main__.link object at 0x7f2a602ee208>}\n",
      "{'10.0.0.1': [[<__main__.link object at 0x7f2a60359c18>, None]]}\n"
     ]
    }
   ],
   "source": [
    "# id,my_ip,next_ip,next_port,prev_circ_id,next_circ_id,direction,stream_id,is_origin\n",
    "class link:\n",
    "    def __init__(self,prev_circ_id,next_circ_id,id,my_ip,next_ip,next_port,direction,is_origin=False,stream_id=0):\n",
    "        self.prev_circ_id=prev_circ_id\n",
    "        self.next_circ_id=next_circ_id\n",
    "        self.id=id\n",
    "        self.my_ip=my_ip\n",
    "        self.next_ip=next_ip\n",
    "        self.next_port=next_port\n",
    "        self.direction=direction\n",
    "        self.stream_id=stream_id\n",
    "        self.is_origin=is_origin\n",
    "\n",
    "def readFromDB():\n",
    "    '''\n",
    "    using my_ip as key\n",
    "    using prev_circ as second key (accelerate search whether prev_circ is there)\n",
    "    \n",
    "    return dict() --{\"my_ip\":{\"prev_circ_id\":link}}\n",
    "    '''\n",
    "    #as test\n",
    "    relay=dict()\n",
    "    origin=dict()\n",
    "    a=link(\"12\",\"34\",1,\"10.0.0.1\",\"10.0.0.3\",600,123,True)\n",
    "    b=link(\"34\",\"56\",2,\"10.0.0.3\",\"10.0.0.4\",700,123)\n",
    "    origin[a.my_ip]={a.prev_circ_id:a}\n",
    "    relay[b.my_ip]={b.prev_circ_id:b}\n",
    "    \n",
    "    return origin,relay\n",
    "\n",
    "origins,relays=dict(),dict() #global var\n",
    "#     return None\n",
    "def searchNext(p,relays):\n",
    "    # p:type link  --the previous one \n",
    "    # relay:type dict {\"my_ip\":{\"prev_circ_id\":link}} --the relay dict\n",
    "    # return list()  --the list from p to end looks like [p1,[p2,[p3,None]]]\n",
    "    if(p.next_ip in relays):\n",
    "        nls=relays[p.next_ip]\n",
    "        print(nls)\n",
    "        if(p.next_circ_id in nls): # prev_relay.next_circ_id equals to the next one's prev_circ_id\n",
    "            t=searchNext(nls[p.next_circ_id],relays)\n",
    "            return [p,t]\n",
    "    return None\n",
    "\n",
    "\n",
    "def linkAll():\n",
    "    # return fixlinks:type dict(\"origin_ip\":list [[p1,[p2,None]],[p1,[p3,[p4,None]]]])\n",
    "    fixlinks=dict()\n",
    "    origins,relays=readFromDB()\n",
    "    print(origins,relays)\n",
    "    for oStr in origins:# though all the origin #this is a p\n",
    "        o=origins[oStr]\n",
    "        for prev_circ_id in o: #all the next ip\n",
    "            p=o[prev_circ_id]# one origin link point\n",
    "            print(p.next_ip)\n",
    "            t=searchNext(p,relays)\n",
    "            if(t!=None):\n",
    "                if(oStr not in fixlinks):\n",
    "                    fixlinks[oStr]=list()\n",
    "                fixlinks[oStr].append(t)\n",
    "    return fixlinks\n",
    "#             if(next_ip not in relays): #not such relay\n",
    "#                 continue\n",
    "#             else:\n",
    "#                 p=relay[next_ip]\n",
    "#                 searchNext(p)\n",
    "if __name__==\"__main__\":\n",
    "    print(linkAll())"
   ]
  },
  {
   "cell_type": "code",
   "execution_count": null,
   "metadata": {},
   "outputs": [],
   "source": []
  }
 ],
 "metadata": {
  "kernelspec": {
   "display_name": "Python 3",
   "language": "python",
   "name": "python3"
  },
  "language_info": {
   "codemirror_mode": {
    "name": "ipython",
    "version": 3
   },
   "file_extension": ".py",
   "mimetype": "text/x-python",
   "name": "python",
   "nbconvert_exporter": "python",
   "pygments_lexer": "ipython3",
   "version": "3.6.5"
  }
 },
 "nbformat": 4,
 "nbformat_minor": 2
}
