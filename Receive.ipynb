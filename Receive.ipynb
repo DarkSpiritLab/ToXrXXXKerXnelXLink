{
 "cells": [
  {
   "cell_type": "code",
   "execution_count": null,
   "metadata": {},
   "outputs": [],
   "source": [
    "import socket\n",
    "import sys\n",
    "import os\n",
    "\n",
    "import pika\n",
    "rabbitMqServerIP = \"10.11.49.71\"\n",
    "rabbitMqServerPort = 5672\n",
    "\n",
    "credentials = pika.PlainCredentials(\"test\",\"test\")\n",
    "connectionRabbitMQ = pika.BlockingConnection(pika.ConnectionParameters(rabbitMqServerIP,rabbitMqServerPort,'/',credentials))\n",
    "channel = connectionRabbitMQ.channel()\n",
    "channel.queue_declare(queue=\"relayInfor\")\n",
    "\n",
    "def sendToRabbitMQ(infor):\n",
    "\tchannel.basic_publish(exchange='',routing_key='relayInfor',body=infor)\n",
    "\tprint infor\n",
    "\n",
    "server_address = '/home/uds_socket'\n",
    "\n",
    "# Make sure the socket does not already exist\n",
    "try:\n",
    "    os.unlink(server_address)\n",
    "except OSError:\n",
    "    if os.path.exists(server_address):\n",
    "        raise\n",
    "# Create a UDS socket\n",
    "sock = socket.socket(socket.AF_UNIX,socket.SOCK_STREAM)\n",
    "# Bind the socket to the port\n",
    "#print >>sys.stderr, 'starting up on %s' % server_address\n",
    "sock.bind(server_address)\n",
    "\n",
    "# Listen for incoming connections\n",
    "sock.listen(100)\n",
    "\n",
    "while True:\n",
    "    # Wait for a connection\n",
    "    #print >>sys.stderr, 'waiting for a connection'\n",
    "    connection, client_address = sock.accept()\n",
    "    try:\n",
    "        print >>sys.stderr, 'connection from', client_address\n",
    "        data = \"\"\n",
    "        # Receive the data in small chunks and retransmit it\n",
    "        while True:\n",
    "            temp = connection.recv(10000)\n",
    "            #print >>sys.stderr, 'received \"%s\"' % data\n",
    "            data += temp\n",
    "            if not(temp):\n",
    "                break\n",
    "        sendToRabbitMQ(data)\n",
    "    finally:\n",
    "        # Clean up the connection\n",
    "        #print \"close la!\"\n",
    "        connection.close()\n",
    "\n",
    "connectionRabbitMQ.close()"
   ]
  }
 ],
 "metadata": {
  "kernelspec": {
   "display_name": "Python 2",
   "language": "python",
   "name": "python2"
  },
  "language_info": {
   "codemirror_mode": {
    "name": "ipython",
    "version": 2
   },
   "file_extension": ".py",
   "mimetype": "text/x-python",
   "name": "python",
   "nbconvert_exporter": "python",
   "pygments_lexer": "ipython2",
   "version": "2.7.15rc1"
  }
 },
 "nbformat": 4,
 "nbformat_minor": 2
}
